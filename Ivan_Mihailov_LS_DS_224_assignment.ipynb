{
  "nbformat": 4,
  "nbformat_minor": 0,
  "metadata": {
    "kernelspec": {
      "display_name": "Python 3",
      "language": "python",
      "name": "python3"
    },
    "language_info": {
      "codemirror_mode": {
        "name": "ipython",
        "version": 3
      },
      "file_extension": ".py",
      "mimetype": "text/x-python",
      "name": "python",
      "nbconvert_exporter": "python",
      "pygments_lexer": "ipython3",
      "version": "3.7.3"
    },
    "colab": {
      "name": "Ivan_Mihailov_LS_DS_224_assignment.ipynb",
      "provenance": [],
      "collapsed_sections": [],
      "toc_visible": true,
      "include_colab_link": true
    }
  },
  "cells": [
    {
      "cell_type": "markdown",
      "metadata": {
        "id": "view-in-github",
        "colab_type": "text"
      },
      "source": [
        "<a href=\"https://colab.research.google.com/github/ivan-mihailov/LS-Unit-2-Sprint-2-Assignments/blob/main/Ivan_Mihailov_LS_DS_224_assignment.ipynb\" target=\"_parent\"><img src=\"https://colab.research.google.com/assets/colab-badge.svg\" alt=\"Open In Colab\"/></a>"
      ]
    },
    {
      "cell_type": "markdown",
      "metadata": {
        "id": "Bwa9V0SqfH92"
      },
      "source": [
        "Lambda School Data Science\n",
        "\n",
        "*Unit 2, Sprint 2, Module 4*\n",
        "\n",
        "---"
      ]
    },
    {
      "cell_type": "markdown",
      "metadata": {
        "id": "nCc3XZEyG3XV"
      },
      "source": [
        "# Classification Metrics\n",
        "\n",
        "## Assignment\n",
        "- [ ] If you haven't yet, [review requirements for your portfolio project](https://lambdaschool.github.io/ds/unit2), then submit your dataset.\n",
        "- [ ] Plot a confusion matrix for your Tanzania Waterpumps model.\n",
        "- [ ] Continue to participate in our Kaggle challenge. Every student should have made at least one submission that scores at least 70% accuracy (well above the majority class baseline).\n",
        "- [ ] Submit your final predictions to our Kaggle competition. Optionally, go to **My Submissions**, and _\"you may select up to 1 submission to be used to count towards your final leaderboard score.\"_\n",
        "- [ ] Commit your notebook to your fork of the GitHub repo.\n",
        "- [ ] Read [Maximizing Scarce Maintenance Resources with Data: Applying predictive modeling, precision at k, and clustering to optimize impact](http://archive.is/DelgE), by Lambda DS3 student Michael Brady. His blog post extends the Tanzania Waterpumps scenario, far beyond what's in the lecture notebook.\n",
        "\n",
        "\n",
        "## Stretch Goals\n",
        "\n",
        "### Reading\n",
        "\n",
        "- [Attacking discrimination with smarter machine learning](https://research.google.com/bigpicture/attacking-discrimination-in-ml/), by Google Research, with  interactive visualizations. _\"A threshold classifier essentially makes a yes/no decision, putting things in one category or another. We look at how these classifiers work, ways they can potentially be unfair, and how you might turn an unfair classifier into a fairer one. As an illustrative example, we focus on loan granting scenarios where a bank may grant or deny a loan based on a single, automatically computed number such as a credit score.\"_\n",
        "- [Notebook about how to calculate expected value from a confusion matrix by treating it as a cost-benefit matrix](https://github.com/podopie/DAT18NYC/blob/master/classes/13-expected_value_cost_benefit_analysis.ipynb)\n",
        "- [Visualizing Machine Learning Thresholds to Make Better Business Decisions](https://blog.insightdatascience.com/visualizing-machine-learning-thresholds-to-make-better-business-decisions-4ab07f823415)\n",
        "\n",
        "\n",
        "### Doing\n",
        "- [ ] Share visualizations in our Slack channel!\n",
        "- [ ] RandomizedSearchCV / GridSearchCV, for model selection. (See module 3 assignment notebook)\n",
        "- [ ] Stacking Ensemble. (See module 3 assignment notebook)\n",
        "- [ ] More Categorical Encoding. (See module 2 assignment notebook)"
      ]
    },
    {
      "cell_type": "code",
      "metadata": {
        "id": "lsbRiKBoB5RE"
      },
      "source": [
        "%%capture\n",
        "import sys\n",
        "\n",
        "# If you're on Colab:\n",
        "if 'google.colab' in sys.modules:\n",
        "    DATA_PATH = 'https://raw.githubusercontent.com/LambdaSchool/DS-Unit-2-Kaggle-Challenge/master/data/'\n",
        "    !pip install category_encoders==2.*\n",
        "\n",
        "# If you're working locally:\n",
        "else:\n",
        "    DATA_PATH = '../data/'"
      ],
      "execution_count": 1,
      "outputs": []
    },
    {
      "cell_type": "code",
      "metadata": {
        "id": "BVA1lph8CcNX"
      },
      "source": [
        "import pandas as pd\n",
        "\n",
        "# Merge train_features.csv & train_labels.csv\n",
        "train = pd.merge(pd.read_csv(DATA_PATH+'waterpumps/train_features.csv'), \n",
        "                 pd.read_csv(DATA_PATH+'waterpumps/train_labels.csv'))\n",
        "\n",
        "# Read test_features.csv & sample_submission.csv\n",
        "test = pd.read_csv(DATA_PATH+'waterpumps/test_features.csv')\n",
        "sample_submission = pd.read_csv(DATA_PATH+'waterpumps/sample_submission.csv')"
      ],
      "execution_count": 2,
      "outputs": []
    },
    {
      "cell_type": "code",
      "metadata": {
        "colab": {
          "base_uri": "https://localhost:8080/"
        },
        "id": "E0_d01wTf7-Q",
        "outputId": "a9c8263c-4804-45a0-c6dd-d6072f99458a"
      },
      "source": [
        "%matplotlib inline\n",
        "import category_encoders as ce\n",
        "import matplotlib.pyplot as plt\n",
        "import numpy as np\n",
        "from sklearn.impute import SimpleImputer\n",
        "from sklearn.metrics import accuracy_score\n",
        "from sklearn.model_selection import train_test_split\n",
        "from sklearn.pipeline import make_pipeline\n",
        "from sklearn.preprocessing import FunctionTransformer\n",
        "from sklearn.ensemble import RandomForestClassifier\n",
        "from sklearn.linear_model import LogisticRegressionCV\n",
        "from sklearn.metrics import plot_confusion_matrix"
      ],
      "execution_count": 3,
      "outputs": [
        {
          "output_type": "stream",
          "text": [
            "/usr/local/lib/python3.7/dist-packages/statsmodels/tools/_testing.py:19: FutureWarning: pandas.util.testing is deprecated. Use the functions in the public API at pandas.testing instead.\n",
            "  import pandas.util.testing as tm\n"
          ],
          "name": "stderr"
        }
      ]
    },
    {
      "cell_type": "code",
      "metadata": {
        "id": "-7ctMUO4fH-B"
      },
      "source": [
        "def wrangle(X):\n",
        "    \"\"\"Wrangles train, validate, and test sets in the same way\"\"\"\n",
        "    X = X.copy()\n",
        "    \n",
        "    # Set 'id' as the index for the dataframe\n",
        "    X = X.set_index('id')\n",
        "\n",
        "    # Convert date_recorded to datetime\n",
        "    X['date_recorded'] = pd.to_datetime(X['date_recorded'], infer_datetime_format=True)\n",
        "    \n",
        "    # Extract components from date_recorded, then drop the original column\n",
        "    X['year_recorded'] = X['date_recorded'].dt.year\n",
        "    X['month_recorded'] = X['date_recorded'].dt.month\n",
        "    X['day_recorded'] = X['date_recorded'].dt.day\n",
        "    X = X.drop(columns='date_recorded')\n",
        "    \n",
        "    # Engineer feature: how many years from construction_year to date_recorded\n",
        "    X['years'] = X['year_recorded'] - X['construction_year']\n",
        "    X['years_MISSING'] = X['years'].isnull()    \n",
        "    \n",
        "    # Drop recorded_by (never varies) and id (always varies, random)\n",
        "    unusable_variance = ['recorded_by']\n",
        "    X = X.drop(columns=unusable_variance)\n",
        "    \n",
        "    # Drop duplicate columns\n",
        "    duplicate_columns = ['quantity_group', 'payment_type']\n",
        "    X = X.drop(columns=duplicate_columns)\n",
        "    \n",
        "    # About 3% of the time, latitude has small values near zero,\n",
        "    # outside Tanzania, so we'll treat these like null values\n",
        "    X['latitude'] = X['latitude'].replace(-2e-08, np.nan)\n",
        "    \n",
        "    # When columns have zeros and shouldn't, they are like null values\n",
        "    # Create a \"missing indicator\" column, to account for possibility that \n",
        "    # missing values may be predictive\n",
        "    cols_with_zeros = ['construction_year', 'longitude', 'latitude', 'gps_height', 'population']\n",
        "    for col in cols_with_zeros:\n",
        "        X[col] = X[col].replace(0, np.nan)\n",
        "        X[col+'_MISSING'] = X[col].isnull()\n",
        "        \n",
        "    return X\n"
      ],
      "execution_count": 4,
      "outputs": []
    },
    {
      "cell_type": "code",
      "metadata": {
        "id": "C99G6m6Fgxb-"
      },
      "source": [
        "# Split train into train & val. Make val the same size as test.\n",
        "target = 'status_group'\n",
        "train, val = train_test_split(train, test_size=len(test),  \n",
        "                              stratify=train[target], random_state=42)"
      ],
      "execution_count": 5,
      "outputs": []
    },
    {
      "cell_type": "code",
      "metadata": {
        "id": "-WYVavcAg95I"
      },
      "source": [
        "# Arrange data into X features matrix and y target vector\n",
        "X_train = train.drop(columns=target)\n",
        "y_train = train[target]\n",
        "X_val = val.drop(columns=target)\n",
        "y_val = val[target]\n",
        "X_test = test"
      ],
      "execution_count": 6,
      "outputs": []
    },
    {
      "cell_type": "code",
      "metadata": {
        "id": "v-9LFr5whFhl"
      },
      "source": [
        "# Make pipeline with FunctionTransformer, Ordinal Encoder, and SimpleImputer\n",
        "# as transformers and LogisticRegressionCV as estimator\n",
        "\n",
        "log_pipeline = make_pipeline(\n",
        "    FunctionTransformer(wrangle, validate=False), \n",
        "    ce.OrdinalEncoder(), \n",
        "    SimpleImputer(strategy='mean'), \n",
        "    LogisticRegressionCV(cv = 5, random_state = 42, n_jobs = -1)\n",
        ")"
      ],
      "execution_count": 7,
      "outputs": []
    },
    {
      "cell_type": "code",
      "metadata": {
        "colab": {
          "base_uri": "https://localhost:8080/"
        },
        "id": "TmlTy05FhMIh",
        "outputId": "cc95623e-eb51-4ef2-fd62-41f7f3d63209"
      },
      "source": [
        "# Fit on train, score on val\n",
        "log_pipeline.fit(X_train, y_train)\n",
        "y_pred_val_log = log_pipeline.predict(X_val)\n",
        "print('Validation Accuracy', accuracy_score(y_val, y_pred_val_log))"
      ],
      "execution_count": 8,
      "outputs": [
        {
          "output_type": "stream",
          "text": [
            "/usr/local/lib/python3.7/dist-packages/sklearn/linear_model/_logistic.py:940: ConvergenceWarning: lbfgs failed to converge (status=1):\n",
            "STOP: TOTAL NO. of ITERATIONS REACHED LIMIT.\n",
            "\n",
            "Increase the number of iterations (max_iter) or scale the data as shown in:\n",
            "    https://scikit-learn.org/stable/modules/preprocessing.html\n",
            "Please also refer to the documentation for alternative solver options:\n",
            "    https://scikit-learn.org/stable/modules/linear_model.html#logistic-regression\n",
            "  extra_warning_msg=_LOGISTIC_SOLVER_CONVERGENCE_MSG)\n"
          ],
          "name": "stderr"
        },
        {
          "output_type": "stream",
          "text": [
            "Validation Accuracy 0.6098342387519153\n"
          ],
          "name": "stdout"
        }
      ]
    },
    {
      "cell_type": "code",
      "metadata": {
        "colab": {
          "base_uri": "https://localhost:8080/"
        },
        "id": "0ppV8l20sVKi",
        "outputId": "dc82218e-e98d-40bb-c4a2-a67f126a1e13"
      },
      "source": [
        "print('Model Accuracy for the training data is:', log_pipeline.score(X_train, y_train))"
      ],
      "execution_count": 9,
      "outputs": [
        {
          "output_type": "stream",
          "text": [
            "Model Accuracy for the training data is: 0.6057457484125927\n"
          ],
          "name": "stdout"
        }
      ]
    },
    {
      "cell_type": "code",
      "metadata": {
        "id": "InQCR0BDjaCz"
      },
      "source": [
        "# Make pipeline with FunctionTransformer, Ordinal Encoder, and SimpleImputer\n",
        "# as transformers and RandomForestClassifier as estimator\n",
        "\n",
        "rf_pipeline = make_pipeline(\n",
        "    FunctionTransformer(wrangle, validate=False), \n",
        "    ce.OrdinalEncoder(), \n",
        "    SimpleImputer(strategy='median'), \n",
        "    RandomForestClassifier(n_estimators=172, max_depth = 21, random_state=42, n_jobs=-1)\n",
        ")"
      ],
      "execution_count": 30,
      "outputs": []
    },
    {
      "cell_type": "code",
      "metadata": {
        "colab": {
          "base_uri": "https://localhost:8080/"
        },
        "id": "pppjPOlYkE1O",
        "outputId": "75cfbe03-a154-43c2-8b94-87dd4b2b42de"
      },
      "source": [
        "# Fit on train, score on val\n",
        "rf_pipeline.fit(X_train, y_train)\n",
        "y_pred_val_rf = rf_pipeline.predict(X_val)\n",
        "print('Model Accuracy for the training data is:', rf_pipeline.score(X_train, y_train))\n",
        "print('Validation Accuracy', accuracy_score(y_val, y_pred_val_rf))"
      ],
      "execution_count": 31,
      "outputs": [
        {
          "output_type": "stream",
          "text": [
            "Model Accuracy for the training data is: 0.9632121131388481\n",
            "Validation Accuracy 0.8124390583646748\n"
          ],
          "name": "stdout"
        }
      ]
    },
    {
      "cell_type": "code",
      "metadata": {
        "colab": {
          "base_uri": "https://localhost:8080/",
          "height": 652
        },
        "id": "p-N9duunombG",
        "outputId": "218ba4fa-c2e9-44e6-f234-7db4304a5c32"
      },
      "source": [
        "plot_confusion_matrix(rf_pipeline, X_val, y_val, xticks_rotation = 'vertical', values_format = '.0f')"
      ],
      "execution_count": 32,
      "outputs": [
        {
          "output_type": "execute_result",
          "data": {
            "text/plain": [
              "<sklearn.metrics._plot.confusion_matrix.ConfusionMatrixDisplay at 0x7f33a6e92090>"
            ]
          },
          "metadata": {
            "tags": []
          },
          "execution_count": 32
        },
        {
          "output_type": "display_data",
          "data": {
            "image/png": "[encoded data removed]",
            "text/plain": [
              "<Figure size 800x550 with 2 Axes>"
            ]
          },
          "metadata": {
            "tags": []
          }
        }
      ]
    },
    {
      "cell_type": "code",
      "metadata": {
        "colab": {
          "base_uri": "https://localhost:8080/"
        },
        "id": "nWgm5nXMpu4f",
        "outputId": "8193f6ec-6e8b-4f8f-e10b-a3d30dbeb51e"
      },
      "source": [
        "from sklearn.metrics import classification_report\n",
        "\n",
        "print(classification_report(y_val, y_pred_val_rf))"
      ],
      "execution_count": 33,
      "outputs": [
        {
          "output_type": "stream",
          "text": [
            "                         precision    recall  f1-score   support\n",
            "\n",
            "             functional       0.79      0.92      0.85      7798\n",
            "functional needs repair       0.65      0.29      0.40      1043\n",
            "         non functional       0.86      0.77      0.81      5517\n",
            "\n",
            "               accuracy                           0.81     14358\n",
            "              macro avg       0.77      0.66      0.69     14358\n",
            "           weighted avg       0.81      0.81      0.80     14358\n",
            "\n"
          ],
          "name": "stdout"
        }
      ]
    },
    {
      "cell_type": "code",
      "metadata": {
        "colab": {
          "base_uri": "https://localhost:8080/",
          "height": 235
        },
        "id": "rneYbqTe6qSp",
        "outputId": "2e1c17d6-ada5-4b7a-c156-b443a6122693"
      },
      "source": [
        "y_pred_test = rf_pipeline.predict(X_test) # Predict target vector for the test set\n",
        "X_test = wrangle(X_test)\n",
        "submission = pd.DataFrame(data = y_pred_test, index = X_test.index, columns = ['status_group']) # Assign the predicted values to a dataframe\n",
        "submission.head()"
      ],
      "execution_count": 21,
      "outputs": [
        {
          "output_type": "execute_result",
          "data": {
            "text/html": [
              "<div>\n",
              "<style scoped>\n",
              "    .dataframe tbody tr th:only-of-type {\n",
              "        vertical-align: middle;\n",
              "    }\n",
              "\n",
              "    .dataframe tbody tr th {\n",
              "        vertical-align: top;\n",
              "    }\n",
              "\n",
              "    .dataframe thead th {\n",
              "        text-align: right;\n",
              "    }\n",
              "</style>\n",
              "<table border=\"1\" class=\"dataframe\">\n",
              "  <thead>\n",
              "    <tr style=\"text-align: right;\">\n",
              "      <th></th>\n",
              "      <th>status_group</th>\n",
              "    </tr>\n",
              "    <tr>\n",
              "      <th>id</th>\n",
              "      <th></th>\n",
              "    </tr>\n",
              "  </thead>\n",
              "  <tbody>\n",
              "    <tr>\n",
              "      <th>50785</th>\n",
              "      <td>non functional</td>\n",
              "    </tr>\n",
              "    <tr>\n",
              "      <th>51630</th>\n",
              "      <td>functional</td>\n",
              "    </tr>\n",
              "    <tr>\n",
              "      <th>17168</th>\n",
              "      <td>functional</td>\n",
              "    </tr>\n",
              "    <tr>\n",
              "      <th>45559</th>\n",
              "      <td>non functional</td>\n",
              "    </tr>\n",
              "    <tr>\n",
              "      <th>49871</th>\n",
              "      <td>functional</td>\n",
              "    </tr>\n",
              "  </tbody>\n",
              "</table>\n",
              "</div>"
            ],
            "text/plain": [
              "         status_group\n",
              "id                   \n",
              "50785  non functional\n",
              "51630      functional\n",
              "17168      functional\n",
              "45559  non functional\n",
              "49871      functional"
            ]
          },
          "metadata": {
            "tags": []
          },
          "execution_count": 21
        }
      ]
    },
    {
      "cell_type": "code",
      "metadata": {
        "id": "AQ2eTgck68-J"
      },
      "source": [
        "# Create Kaggle Submission file\n",
        "submission.to_csv('Ivan_Mihailov_Module4_Kaggle_Submission')"
      ],
      "execution_count": 22,
      "outputs": []
    },
    {
      "cell_type": "markdown",
      "metadata": {
        "id": "s83KjAYS7oFb"
      },
      "source": [
        "# Stretch Goals IIM"
      ]
    },
    {
      "cell_type": "code",
      "metadata": {
        "colab": {
          "base_uri": "https://localhost:8080/",
          "height": 450
        },
        "id": "WKL5XP8eAB99",
        "outputId": "8d101f9a-38c9-4ac7-94c8-fb757b7848af"
      },
      "source": [
        "high_card = ['funder', 'installer', 'wpt_name', 'subvillage', 'lga', 'ward', 'scheme_name']\n",
        "\n",
        "X_train[high_card]"
      ],
      "execution_count": 41,
      "outputs": [
        {
          "output_type": "execute_result",
          "data": {
            "text/html": [
              "<div>\n",
              "<style scoped>\n",
              "    .dataframe tbody tr th:only-of-type {\n",
              "        vertical-align: middle;\n",
              "    }\n",
              "\n",
              "    .dataframe tbody tr th {\n",
              "        vertical-align: top;\n",
              "    }\n",
              "\n",
              "    .dataframe thead th {\n",
              "        text-align: right;\n",
              "    }\n",
              "</style>\n",
              "<table border=\"1\" class=\"dataframe\">\n",
              "  <thead>\n",
              "    <tr style=\"text-align: right;\">\n",
              "      <th></th>\n",
              "      <th>funder</th>\n",
              "      <th>installer</th>\n",
              "      <th>wpt_name</th>\n",
              "      <th>subvillage</th>\n",
              "      <th>lga</th>\n",
              "      <th>ward</th>\n",
              "      <th>scheme_name</th>\n",
              "    </tr>\n",
              "    <tr>\n",
              "      <th>id</th>\n",
              "      <th></th>\n",
              "      <th></th>\n",
              "      <th></th>\n",
              "      <th></th>\n",
              "      <th></th>\n",
              "      <th></th>\n",
              "      <th></th>\n",
              "    </tr>\n",
              "  </thead>\n",
              "  <tbody>\n",
              "    <tr>\n",
              "      <th>41413</th>\n",
              "      <td>NaN</td>\n",
              "      <td>NaN</td>\n",
              "      <td>Kwa Mwazembe</td>\n",
              "      <td>Itaba</td>\n",
              "      <td>Ileje</td>\n",
              "      <td>Chitete</td>\n",
              "      <td>NaN</td>\n",
              "    </tr>\n",
              "    <tr>\n",
              "      <th>48397</th>\n",
              "      <td>Dhv</td>\n",
              "      <td>DWE</td>\n",
              "      <td>Kwamwampwaga</td>\n",
              "      <td>Igima</td>\n",
              "      <td>Kilombero</td>\n",
              "      <td>Mbingu</td>\n",
              "      <td>NaN</td>\n",
              "    </tr>\n",
              "    <tr>\n",
              "      <th>6910</th>\n",
              "      <td>Finw</td>\n",
              "      <td>FinW</td>\n",
              "      <td>Pachani</td>\n",
              "      <td>Mnyekehe</td>\n",
              "      <td>Tandahimba</td>\n",
              "      <td>Naputa</td>\n",
              "      <td>Borehole</td>\n",
              "    </tr>\n",
              "    <tr>\n",
              "      <th>12526</th>\n",
              "      <td>Adb</td>\n",
              "      <td>DWE</td>\n",
              "      <td>Kwa Mwangayange Mfumbilwa</td>\n",
              "      <td>Ndanula</td>\n",
              "      <td>Njombe</td>\n",
              "      <td>Igongolo</td>\n",
              "      <td>Ibiki gravity water scheme</td>\n",
              "    </tr>\n",
              "    <tr>\n",
              "      <th>17511</th>\n",
              "      <td>Dwe</td>\n",
              "      <td>DWE</td>\n",
              "      <td>Kwa Bungwa</td>\n",
              "      <td>Nyakerera</td>\n",
              "      <td>Kasulu</td>\n",
              "      <td>Kitagata</td>\n",
              "      <td>Nyachenda</td>\n",
              "    </tr>\n",
              "    <tr>\n",
              "      <th>...</th>\n",
              "      <td>...</td>\n",
              "      <td>...</td>\n",
              "      <td>...</td>\n",
              "      <td>...</td>\n",
              "      <td>...</td>\n",
              "      <td>...</td>\n",
              "      <td>...</td>\n",
              "    </tr>\n",
              "    <tr>\n",
              "      <th>14972</th>\n",
              "      <td>No</td>\n",
              "      <td>DWE</td>\n",
              "      <td>Shule Ya Msingi Kasu</td>\n",
              "      <td>Chiminoka</td>\n",
              "      <td>Nkasi</td>\n",
              "      <td>Chala</td>\n",
              "      <td>NaN</td>\n",
              "    </tr>\n",
              "    <tr>\n",
              "      <th>7355</th>\n",
              "      <td>Hesawa</td>\n",
              "      <td>DWE</td>\n",
              "      <td>Kwa Matira Kisuka</td>\n",
              "      <td>Mine</td>\n",
              "      <td>Bunda</td>\n",
              "      <td>Kabasa</td>\n",
              "      <td>NaN</td>\n",
              "    </tr>\n",
              "    <tr>\n",
              "      <th>2283</th>\n",
              "      <td>African Relie</td>\n",
              "      <td>Af</td>\n",
              "      <td>Chombe</td>\n",
              "      <td>Masogola</td>\n",
              "      <td>Bagamoyo</td>\n",
              "      <td>Yombo</td>\n",
              "      <td>NaN</td>\n",
              "    </tr>\n",
              "    <tr>\n",
              "      <th>64193</th>\n",
              "      <td>Finida German Tanzania Govt</td>\n",
              "      <td>Finwater</td>\n",
              "      <td>Tangini</td>\n",
              "      <td>Tangini</td>\n",
              "      <td>Newala</td>\n",
              "      <td>Kitangari</td>\n",
              "      <td>Mitema</td>\n",
              "    </tr>\n",
              "    <tr>\n",
              "      <th>28687</th>\n",
              "      <td>Government Of Tanzania</td>\n",
              "      <td>RWE</td>\n",
              "      <td>Kwa Ndeseme</td>\n",
              "      <td>Masanze</td>\n",
              "      <td>Mvomero</td>\n",
              "      <td>Mzumbe</td>\n",
              "      <td>Tangeni</td>\n",
              "    </tr>\n",
              "  </tbody>\n",
              "</table>\n",
              "<p>45042 rows × 7 columns</p>\n",
              "</div>"
            ],
            "text/plain": [
              "                            funder  ...                 scheme_name\n",
              "id                                  ...                            \n",
              "41413                          NaN  ...                         NaN\n",
              "48397                          Dhv  ...                         NaN\n",
              "6910                          Finw  ...                    Borehole\n",
              "12526                          Adb  ...  Ibiki gravity water scheme\n",
              "17511                          Dwe  ...                   Nyachenda\n",
              "...                            ...  ...                         ...\n",
              "14972                           No  ...                         NaN\n",
              "7355                        Hesawa  ...                         NaN\n",
              "2283                 African Relie  ...                         NaN\n",
              "64193  Finida German Tanzania Govt  ...                      Mitema\n",
              "28687       Government Of Tanzania  ...                     Tangeni\n",
              "\n",
              "[45042 rows x 7 columns]"
            ]
          },
          "metadata": {
            "tags": []
          },
          "execution_count": 41
        }
      ]
    },
    {
      "cell_type": "code",
      "metadata": {
        "id": "gbd0b-bpBYer"
      },
      "source": [
        "X_train = X_train.select_dtypes(exclude='number').replace(np.nan, 'none', regex=True)"
      ],
      "execution_count": 47,
      "outputs": []
    },
    {
      "cell_type": "code",
      "metadata": {
        "colab": {
          "base_uri": "https://localhost:8080/",
          "height": 450
        },
        "id": "-rQUOVNdB5PW",
        "outputId": "08df3163-832c-4d25-c8bd-0fb461802552"
      },
      "source": [
        "X_train[high_card]"
      ],
      "execution_count": 48,
      "outputs": [
        {
          "output_type": "execute_result",
          "data": {
            "text/html": [
              "<div>\n",
              "<style scoped>\n",
              "    .dataframe tbody tr th:only-of-type {\n",
              "        vertical-align: middle;\n",
              "    }\n",
              "\n",
              "    .dataframe tbody tr th {\n",
              "        vertical-align: top;\n",
              "    }\n",
              "\n",
              "    .dataframe thead th {\n",
              "        text-align: right;\n",
              "    }\n",
              "</style>\n",
              "<table border=\"1\" class=\"dataframe\">\n",
              "  <thead>\n",
              "    <tr style=\"text-align: right;\">\n",
              "      <th></th>\n",
              "      <th>funder</th>\n",
              "      <th>installer</th>\n",
              "      <th>wpt_name</th>\n",
              "      <th>subvillage</th>\n",
              "      <th>lga</th>\n",
              "      <th>ward</th>\n",
              "      <th>scheme_name</th>\n",
              "    </tr>\n",
              "    <tr>\n",
              "      <th>id</th>\n",
              "      <th></th>\n",
              "      <th></th>\n",
              "      <th></th>\n",
              "      <th></th>\n",
              "      <th></th>\n",
              "      <th></th>\n",
              "      <th></th>\n",
              "    </tr>\n",
              "  </thead>\n",
              "  <tbody>\n",
              "    <tr>\n",
              "      <th>41413</th>\n",
              "      <td>none</td>\n",
              "      <td>none</td>\n",
              "      <td>Kwa Mwazembe</td>\n",
              "      <td>Itaba</td>\n",
              "      <td>Ileje</td>\n",
              "      <td>Chitete</td>\n",
              "      <td>none</td>\n",
              "    </tr>\n",
              "    <tr>\n",
              "      <th>48397</th>\n",
              "      <td>Dhv</td>\n",
              "      <td>DWE</td>\n",
              "      <td>Kwamwampwaga</td>\n",
              "      <td>Igima</td>\n",
              "      <td>Kilombero</td>\n",
              "      <td>Mbingu</td>\n",
              "      <td>none</td>\n",
              "    </tr>\n",
              "    <tr>\n",
              "      <th>6910</th>\n",
              "      <td>Finw</td>\n",
              "      <td>FinW</td>\n",
              "      <td>Pachani</td>\n",
              "      <td>Mnyekehe</td>\n",
              "      <td>Tandahimba</td>\n",
              "      <td>Naputa</td>\n",
              "      <td>Borehole</td>\n",
              "    </tr>\n",
              "    <tr>\n",
              "      <th>12526</th>\n",
              "      <td>Adb</td>\n",
              "      <td>DWE</td>\n",
              "      <td>Kwa Mwangayange Mfumbilwa</td>\n",
              "      <td>Ndanula</td>\n",
              "      <td>Njombe</td>\n",
              "      <td>Igongolo</td>\n",
              "      <td>Ibiki gravity water scheme</td>\n",
              "    </tr>\n",
              "    <tr>\n",
              "      <th>17511</th>\n",
              "      <td>Dwe</td>\n",
              "      <td>DWE</td>\n",
              "      <td>Kwa Bungwa</td>\n",
              "      <td>Nyakerera</td>\n",
              "      <td>Kasulu</td>\n",
              "      <td>Kitagata</td>\n",
              "      <td>Nyachenda</td>\n",
              "    </tr>\n",
              "    <tr>\n",
              "      <th>...</th>\n",
              "      <td>...</td>\n",
              "      <td>...</td>\n",
              "      <td>...</td>\n",
              "      <td>...</td>\n",
              "      <td>...</td>\n",
              "      <td>...</td>\n",
              "      <td>...</td>\n",
              "    </tr>\n",
              "    <tr>\n",
              "      <th>14972</th>\n",
              "      <td>No</td>\n",
              "      <td>DWE</td>\n",
              "      <td>Shule Ya Msingi Kasu</td>\n",
              "      <td>Chiminoka</td>\n",
              "      <td>Nkasi</td>\n",
              "      <td>Chala</td>\n",
              "      <td>none</td>\n",
              "    </tr>\n",
              "    <tr>\n",
              "      <th>7355</th>\n",
              "      <td>Hesawa</td>\n",
              "      <td>DWE</td>\n",
              "      <td>Kwa Matira Kisuka</td>\n",
              "      <td>Mine</td>\n",
              "      <td>Bunda</td>\n",
              "      <td>Kabasa</td>\n",
              "      <td>none</td>\n",
              "    </tr>\n",
              "    <tr>\n",
              "      <th>2283</th>\n",
              "      <td>African Relie</td>\n",
              "      <td>Af</td>\n",
              "      <td>Chombe</td>\n",
              "      <td>Masogola</td>\n",
              "      <td>Bagamoyo</td>\n",
              "      <td>Yombo</td>\n",
              "      <td>none</td>\n",
              "    </tr>\n",
              "    <tr>\n",
              "      <th>64193</th>\n",
              "      <td>Finida German Tanzania Govt</td>\n",
              "      <td>Finwater</td>\n",
              "      <td>Tangini</td>\n",
              "      <td>Tangini</td>\n",
              "      <td>Newala</td>\n",
              "      <td>Kitangari</td>\n",
              "      <td>Mitema</td>\n",
              "    </tr>\n",
              "    <tr>\n",
              "      <th>28687</th>\n",
              "      <td>Government Of Tanzania</td>\n",
              "      <td>RWE</td>\n",
              "      <td>Kwa Ndeseme</td>\n",
              "      <td>Masanze</td>\n",
              "      <td>Mvomero</td>\n",
              "      <td>Mzumbe</td>\n",
              "      <td>Tangeni</td>\n",
              "    </tr>\n",
              "  </tbody>\n",
              "</table>\n",
              "<p>45042 rows × 7 columns</p>\n",
              "</div>"
            ],
            "text/plain": [
              "                            funder  ...                 scheme_name\n",
              "id                                  ...                            \n",
              "41413                         none  ...                        none\n",
              "48397                          Dhv  ...                        none\n",
              "6910                          Finw  ...                    Borehole\n",
              "12526                          Adb  ...  Ibiki gravity water scheme\n",
              "17511                          Dwe  ...                   Nyachenda\n",
              "...                            ...  ...                         ...\n",
              "14972                           No  ...                        none\n",
              "7355                        Hesawa  ...                        none\n",
              "2283                 African Relie  ...                        none\n",
              "64193  Finida German Tanzania Govt  ...                      Mitema\n",
              "28687       Government Of Tanzania  ...                     Tangeni\n",
              "\n",
              "[45042 rows x 7 columns]"
            ]
          },
          "metadata": {
            "tags": []
          },
          "execution_count": 48
        }
      ]
    },
    {
      "cell_type": "code",
      "metadata": {
        "colab": {
          "base_uri": "https://localhost:8080/"
        },
        "id": "08EujUyoOFYT",
        "outputId": "e54f61d8-0ab3-48fa-9b7a-493c712bcb50"
      },
      "source": [
        "from category_encoders import TargetEncoder\n",
        "encoder = ce.TargetEncoder(min_samples_leaf = 2, smoothing = 1.2)\n",
        "X_train_encoded = encoder.fit_transform(X_train, y_train=='functional')\n",
        "\n",
        "rf_te_pipeline = make_pipeline(\n",
        "    SimpleImputer(strategy = 'median'),\n",
        "    RandomForestClassifier(n_estimators=172, max_depth = 21, random_state=42, n_jobs=-1)\n",
        ")\n",
        "\n",
        "rf_te_pipeline.fit(X_train_encoded, y_train)"
      ],
      "execution_count": 81,
      "outputs": [
        {
          "output_type": "stream",
          "text": [
            "/usr/local/lib/python3.7/dist-packages/category_encoders/utils.py:21: FutureWarning: is_categorical is deprecated and will be removed in a future version.  Use is_categorical_dtype instead\n",
            "  elif pd.api.types.is_categorical(cols):\n"
          ],
          "name": "stderr"
        },
        {
          "output_type": "execute_result",
          "data": {
            "text/plain": [
              "Pipeline(memory=None,\n",
              "         steps=[('simpleimputer',\n",
              "                 SimpleImputer(add_indicator=False, copy=True, fill_value=None,\n",
              "                               missing_values=nan, strategy='median',\n",
              "                               verbose=0)),\n",
              "                ('randomforestclassifier',\n",
              "                 RandomForestClassifier(bootstrap=True, ccp_alpha=0.0,\n",
              "                                        class_weight=None, criterion='gini',\n",
              "                                        max_depth=21, max_features='auto',\n",
              "                                        max_leaf_nodes=None, max_samples=None,\n",
              "                                        min_impurity_decrease=0.0,\n",
              "                                        min_impurity_split=None,\n",
              "                                        min_samples_leaf=1, min_samples_split=2,\n",
              "                                        min_weight_fraction_leaf=0.0,\n",
              "                                        n_estimators=172, n_jobs=-1,\n",
              "                                        oob_score=False, random_state=42,\n",
              "                                        verbose=0, warm_start=False))],\n",
              "         verbose=False)"
            ]
          },
          "metadata": {
            "tags": []
          },
          "execution_count": 81
        }
      ]
    },
    {
      "cell_type": "code",
      "metadata": {
        "colab": {
          "base_uri": "https://localhost:8080/"
        },
        "id": "CyavFLl4QJBz",
        "outputId": "431c1f20-a1d8-446d-dc18-aa446df6c57a"
      },
      "source": [
        "X_train_encoded.info()"
      ],
      "execution_count": 83,
      "outputs": [
        {
          "output_type": "stream",
          "text": [
            "<class 'pandas.core.frame.DataFrame'>\n",
            "Int64Index: 45042 entries, 41413 to 28687\n",
            "Data columns (total 32 columns):\n",
            " #   Column                     Non-Null Count  Dtype  \n",
            "---  ------                     --------------  -----  \n",
            " 0   funder                     44615 non-null  float64\n",
            " 1   installer                  44569 non-null  float64\n",
            " 2   wpt_name                   34161 non-null  float64\n",
            " 3   basin                      45042 non-null  float64\n",
            " 4   subvillage                 40100 non-null  float64\n",
            " 5   region                     45042 non-null  float64\n",
            " 6   lga                        45042 non-null  float64\n",
            " 7   ward                       45001 non-null  float64\n",
            " 8   public_meeting             45042 non-null  float64\n",
            " 9   scheme_management          45042 non-null  float64\n",
            " 10  scheme_name                44608 non-null  float64\n",
            " 11  permit                     45042 non-null  float64\n",
            " 12  extraction_type            45042 non-null  float64\n",
            " 13  extraction_type_group      45042 non-null  float64\n",
            " 14  extraction_type_class      45042 non-null  float64\n",
            " 15  management                 45042 non-null  float64\n",
            " 16  management_group           45042 non-null  float64\n",
            " 17  payment                    45042 non-null  float64\n",
            " 18  water_quality              45042 non-null  float64\n",
            " 19  quality_group              45042 non-null  float64\n",
            " 20  quantity                   45042 non-null  float64\n",
            " 21  source                     45042 non-null  float64\n",
            " 22  source_type                45042 non-null  float64\n",
            " 23  source_class               45042 non-null  float64\n",
            " 24  waterpoint_type            45042 non-null  float64\n",
            " 25  waterpoint_type_group      45042 non-null  float64\n",
            " 26  years_MISSING              45042 non-null  bool   \n",
            " 27  construction_year_MISSING  45042 non-null  bool   \n",
            " 28  longitude_MISSING          45042 non-null  bool   \n",
            " 29  latitude_MISSING           45042 non-null  bool   \n",
            " 30  gps_height_MISSING         45042 non-null  bool   \n",
            " 31  population_MISSING         45042 non-null  bool   \n",
            "dtypes: bool(6), float64(26)\n",
            "memory usage: 10.8 MB\n"
          ],
          "name": "stdout"
        }
      ]
    },
    {
      "cell_type": "code",
      "metadata": {
        "id": "JdOXiLO7PEq_"
      },
      "source": [
        "X_val_encoded = encoder.transform(X_val, y_val=='functional')"
      ],
      "execution_count": 94,
      "outputs": []
    },
    {
      "cell_type": "code",
      "metadata": {
        "colab": {
          "base_uri": "https://localhost:8080/"
        },
        "id": "BH-LZfFXQsbi",
        "outputId": "727095b3-3152-4859-cc77-6a2be44490f7"
      },
      "source": [
        "X_val_encoded.info()"
      ],
      "execution_count": 95,
      "outputs": [
        {
          "output_type": "stream",
          "text": [
            "<class 'pandas.core.frame.DataFrame'>\n",
            "Int64Index: 14358 entries, 36642 to 64188\n",
            "Data columns (total 45 columns):\n",
            " #   Column                     Non-Null Count  Dtype  \n",
            "---  ------                     --------------  -----  \n",
            " 0   amount_tsh                 14358 non-null  float64\n",
            " 1   funder                     13439 non-null  float64\n",
            " 2   gps_height                 9393 non-null   float64\n",
            " 3   installer                  13295 non-null  float64\n",
            " 4   longitude                  13917 non-null  float64\n",
            " 5   latitude                   13917 non-null  float64\n",
            " 6   wpt_name                   5499 non-null   float64\n",
            " 7   num_private                14358 non-null  int64  \n",
            " 8   basin                      14358 non-null  float64\n",
            " 9   subvillage                 6216 non-null   float64\n",
            " 10  region                     14358 non-null  float64\n",
            " 11  region_code                14358 non-null  int64  \n",
            " 12  district_code              14358 non-null  int64  \n",
            " 13  lga                        14340 non-null  float64\n",
            " 14  ward                       11874 non-null  float64\n",
            " 15  population                 9180 non-null   float64\n",
            " 16  public_meeting             14358 non-null  float64\n",
            " 17  scheme_management          14358 non-null  float64\n",
            " 18  scheme_name                12312 non-null  float64\n",
            " 19  permit                     14358 non-null  float64\n",
            " 20  construction_year          9340 non-null   float64\n",
            " 21  extraction_type            14357 non-null  float64\n",
            " 22  extraction_type_group      14358 non-null  float64\n",
            " 23  extraction_type_class      14358 non-null  float64\n",
            " 24  management                 14358 non-null  float64\n",
            " 25  management_group           14358 non-null  float64\n",
            " 26  payment                    14358 non-null  float64\n",
            " 27  water_quality              14358 non-null  float64\n",
            " 28  quality_group              14358 non-null  float64\n",
            " 29  quantity                   14358 non-null  float64\n",
            " 30  source                     14348 non-null  float64\n",
            " 31  source_type                14358 non-null  float64\n",
            " 32  source_class               14358 non-null  float64\n",
            " 33  waterpoint_type            14358 non-null  float64\n",
            " 34  waterpoint_type_group      14358 non-null  float64\n",
            " 35  year_recorded              14358 non-null  int64  \n",
            " 36  month_recorded             14358 non-null  int64  \n",
            " 37  day_recorded               14358 non-null  int64  \n",
            " 38  years                      14358 non-null  int64  \n",
            " 39  years_MISSING              14358 non-null  bool   \n",
            " 40  construction_year_MISSING  14358 non-null  bool   \n",
            " 41  longitude_MISSING          14358 non-null  bool   \n",
            " 42  latitude_MISSING           14358 non-null  bool   \n",
            " 43  gps_height_MISSING         14358 non-null  bool   \n",
            " 44  population_MISSING         14358 non-null  bool   \n",
            "dtypes: bool(6), float64(32), int64(7)\n",
            "memory usage: 5.1 MB\n"
          ],
          "name": "stdout"
        }
      ]
    },
    {
      "cell_type": "code",
      "metadata": {
        "colab": {
          "base_uri": "https://localhost:8080/"
        },
        "id": "tcRMHPpoRrdx",
        "outputId": "c28b2483-7fec-4c80-a4ba-bcc6853ae0db"
      },
      "source": [
        "print(X_val_encoded.columns)\n",
        "print(X_train_encoded.columns)"
      ],
      "execution_count": 96,
      "outputs": [
        {
          "output_type": "stream",
          "text": [
            "Index(['amount_tsh', 'funder', 'gps_height', 'installer', 'longitude',\n",
            "       'latitude', 'wpt_name', 'num_private', 'basin', 'subvillage', 'region',\n",
            "       'region_code', 'district_code', 'lga', 'ward', 'population',\n",
            "       'public_meeting', 'scheme_management', 'scheme_name', 'permit',\n",
            "       'construction_year', 'extraction_type', 'extraction_type_group',\n",
            "       'extraction_type_class', 'management', 'management_group', 'payment',\n",
            "       'water_quality', 'quality_group', 'quantity', 'source', 'source_type',\n",
            "       'source_class', 'waterpoint_type', 'waterpoint_type_group',\n",
            "       'year_recorded', 'month_recorded', 'day_recorded', 'years',\n",
            "       'years_MISSING', 'construction_year_MISSING', 'longitude_MISSING',\n",
            "       'latitude_MISSING', 'gps_height_MISSING', 'population_MISSING'],\n",
            "      dtype='object')\n",
            "Index(['funder', 'installer', 'wpt_name', 'basin', 'subvillage', 'region',\n",
            "       'lga', 'ward', 'public_meeting', 'scheme_management', 'scheme_name',\n",
            "       'permit', 'extraction_type', 'extraction_type_group',\n",
            "       'extraction_type_class', 'management', 'management_group', 'payment',\n",
            "       'water_quality', 'quality_group', 'quantity', 'source', 'source_type',\n",
            "       'source_class', 'waterpoint_type', 'waterpoint_type_group',\n",
            "       'years_MISSING', 'construction_year_MISSING', 'longitude_MISSING',\n",
            "       'latitude_MISSING', 'gps_height_MISSING', 'population_MISSING'],\n",
            "      dtype='object')\n"
          ],
          "name": "stdout"
        }
      ]
    },
    {
      "cell_type": "code",
      "metadata": {
        "id": "TS3NPXVkR3t2"
      },
      "source": [
        "X_val_encoded = X_val_encoded.drop(columns=['amount_tsh', 'gps_height', 'longitude',\n",
        "       'latitude', 'num_private', 'region_code', 'district_code', 'population', \n",
        "       'construction_year', 'year_recorded', 'month_recorded', 'day_recorded', 'years',])"
      ],
      "execution_count": 97,
      "outputs": []
    },
    {
      "cell_type": "code",
      "metadata": {
        "colab": {
          "base_uri": "https://localhost:8080/"
        },
        "id": "L0pK-iT4S9Lr",
        "outputId": "6f13812f-5729-42bc-9040-97d024804881"
      },
      "source": [
        "X_val_encoded.info()"
      ],
      "execution_count": 98,
      "outputs": [
        {
          "output_type": "stream",
          "text": [
            "<class 'pandas.core.frame.DataFrame'>\n",
            "Int64Index: 14358 entries, 36642 to 64188\n",
            "Data columns (total 32 columns):\n",
            " #   Column                     Non-Null Count  Dtype  \n",
            "---  ------                     --------------  -----  \n",
            " 0   funder                     13439 non-null  float64\n",
            " 1   installer                  13295 non-null  float64\n",
            " 2   wpt_name                   5499 non-null   float64\n",
            " 3   basin                      14358 non-null  float64\n",
            " 4   subvillage                 6216 non-null   float64\n",
            " 5   region                     14358 non-null  float64\n",
            " 6   lga                        14340 non-null  float64\n",
            " 7   ward                       11874 non-null  float64\n",
            " 8   public_meeting             14358 non-null  float64\n",
            " 9   scheme_management          14358 non-null  float64\n",
            " 10  scheme_name                12312 non-null  float64\n",
            " 11  permit                     14358 non-null  float64\n",
            " 12  extraction_type            14357 non-null  float64\n",
            " 13  extraction_type_group      14358 non-null  float64\n",
            " 14  extraction_type_class      14358 non-null  float64\n",
            " 15  management                 14358 non-null  float64\n",
            " 16  management_group           14358 non-null  float64\n",
            " 17  payment                    14358 non-null  float64\n",
            " 18  water_quality              14358 non-null  float64\n",
            " 19  quality_group              14358 non-null  float64\n",
            " 20  quantity                   14358 non-null  float64\n",
            " 21  source                     14348 non-null  float64\n",
            " 22  source_type                14358 non-null  float64\n",
            " 23  source_class               14358 non-null  float64\n",
            " 24  waterpoint_type            14358 non-null  float64\n",
            " 25  waterpoint_type_group      14358 non-null  float64\n",
            " 26  years_MISSING              14358 non-null  bool   \n",
            " 27  construction_year_MISSING  14358 non-null  bool   \n",
            " 28  longitude_MISSING          14358 non-null  bool   \n",
            " 29  latitude_MISSING           14358 non-null  bool   \n",
            " 30  gps_height_MISSING         14358 non-null  bool   \n",
            " 31  population_MISSING         14358 non-null  bool   \n",
            "dtypes: bool(6), float64(26)\n",
            "memory usage: 3.7 MB\n"
          ],
          "name": "stdout"
        }
      ]
    },
    {
      "cell_type": "code",
      "metadata": {
        "colab": {
          "base_uri": "https://localhost:8080/"
        },
        "id": "mZCXC75UPjAE",
        "outputId": "ebb07a19-0c2b-4000-a5d3-ecef17d07fbd"
      },
      "source": [
        "y_pred_val_rf_te = rf_te_pipeline.predict(X_val_encoded)\n",
        "print('Model Accuracy for the training data is:', rf_te_pipeline.score(X_train_encoded, y_train))\n",
        "print('Validation Accuracy', accuracy_score(y_val, y_pred_val_rf_te))"
      ],
      "execution_count": 99,
      "outputs": [
        {
          "output_type": "stream",
          "text": [
            "Model Accuracy for the training data is: 0.9167221704187203\n",
            "Validation Accuracy 0.49902493383479596\n"
          ],
          "name": "stdout"
        }
      ]
    },
    {
      "cell_type": "code",
      "metadata": {
        "id": "QbcEKH2rV-iX"
      },
      "source": [
        "features = ['gps_height', 'longitude', 'latitude', 'wpt_name', 'subvillage', \n",
        "            'ward', 'population', 'construction_year', 'quantity', \n",
        "            'waterpoint_type', 'day_recorded', 'years']\n",
        "train = wrangle(train)\n",
        "val=wrangle(val)\n",
        "test= wrangle(test)            \n",
        "X_train = train[features]\n",
        "X_val = val[features]\n",
        "X_test = test[features]"
      ],
      "execution_count": 101,
      "outputs": []
    },
    {
      "cell_type": "code",
      "metadata": {
        "id": "jHjI-5vFXe_Z"
      },
      "source": [
        "from sklearn.linear_model import LogisticRegression\n",
        "# Make pipeline with Ordinal Encoder, and SimpleImputer\n",
        "# as transformers and LogisticRegressionCV as estimator\n",
        "\n",
        "log_pipeline_12_feat = make_pipeline(\n",
        "    ce.OrdinalEncoder(), \n",
        "    SimpleImputer(strategy='mean'), \n",
        "    LogisticRegression(random_state = 42, n_jobs = -1)\n",
        ")"
      ],
      "execution_count": 105,
      "outputs": []
    },
    {
      "cell_type": "code",
      "metadata": {
        "colab": {
          "base_uri": "https://localhost:8080/"
        },
        "id": "V5bRmlK6Xqy4",
        "outputId": "785351be-2e5a-4171-f20d-c16b3bb1d245"
      },
      "source": [
        "# Fit on train, score on val\n",
        "log_pipeline_12_feat.fit(X_train, y_train)\n",
        "y_pred_val_log_12_feat = log_pipeline_12_feat.predict(X_val)\n",
        "print('Validation Accuracy', accuracy_score(y_val, y_pred_val_log_12_feat))"
      ],
      "execution_count": 106,
      "outputs": [
        {
          "output_type": "stream",
          "text": [
            "Validation Accuracy 0.549937317175094\n"
          ],
          "name": "stdout"
        }
      ]
    },
    {
      "cell_type": "code",
      "metadata": {
        "id": "z3RUnA9RX9uq"
      },
      "source": [
        "# Make pipeline with Ordinal Encoder, and SimpleImputer\n",
        "# as transformers and RandomForestClassifier as estimator\n",
        "\n",
        "rf_pipeline_12_feat = make_pipeline(\n",
        "    ce.OrdinalEncoder(), \n",
        "    SimpleImputer(strategy='median'), \n",
        "    RandomForestClassifier(n_estimators=172, max_depth = 21, random_state=42, n_jobs=-1)\n",
        ")"
      ],
      "execution_count": 107,
      "outputs": []
    },
    {
      "cell_type": "code",
      "metadata": {
        "colab": {
          "base_uri": "https://localhost:8080/"
        },
        "id": "_qgmLnsnYEqP",
        "outputId": "7c46a469-a4b6-470d-8b01-e663a149dec9"
      },
      "source": [
        "# Fit on train, score on val\n",
        "rf_pipeline_12_feat.fit(X_train, y_train)\n",
        "y_pred_val_rf_12_feat = rf_pipeline_12_feat.predict(X_val)\n",
        "print('Validation Accuracy', accuracy_score(y_val, y_pred_val_rf_12_feat))"
      ],
      "execution_count": 108,
      "outputs": [
        {
          "output_type": "stream",
          "text": [
            "Validation Accuracy 0.7843014347402145\n"
          ],
          "name": "stdout"
        }
      ]
    }
  ]
}