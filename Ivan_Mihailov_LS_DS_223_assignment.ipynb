{
  "nbformat": 4,
  "nbformat_minor": 0,
  "metadata": {
    "kernelspec": {
      "display_name": "Python 3",
      "language": "python",
      "name": "python3"
    },
    "language_info": {
      "codemirror_mode": {
        "name": "ipython",
        "version": 3
      },
      "file_extension": ".py",
      "mimetype": "text/x-python",
      "name": "python",
      "nbconvert_exporter": "python",
      "pygments_lexer": "ipython3",
      "version": "3.7.6"
    },
    "colab": {
      "name": "Ivan Mihailov LS_DS_223_assignment.ipynb",
      "provenance": [],
      "toc_visible": true,
      "include_colab_link": true
    }
  },
  "cells": [
    {
      "cell_type": "markdown",
      "metadata": {
        "id": "view-in-github",
        "colab_type": "text"
      },
      "source": [
        "<a href=\"https://colab.research.google.com/github/ivan-mihailov/LS-Unit-2-Sprint-2-Assignments/blob/main/Ivan_Mihailov_LS_DS_223_assignment.ipynb\" target=\"_parent\"><img src=\"https://colab.research.google.com/assets/colab-badge.svg\" alt=\"Open In Colab\"/></a>"
      ]
    },
    {
      "cell_type": "markdown",
      "metadata": {
        "id": "JgziNcSdJaej"
      },
      "source": [
        "Lambda School Data Science\n",
        "\n",
        "*Unit 2, Sprint 2, Module 3*\n",
        "\n",
        "---"
      ]
    },
    {
      "cell_type": "markdown",
      "metadata": {
        "id": "5S6DJJLGJaep"
      },
      "source": [
        "# Cross-Validation\n",
        "\n",
        "\n",
        "## Assignment\n",
        "- [ ] [Review requirements for your portfolio project](https://lambdaschool.github.io/ds/unit2), then submit your dataset.\n",
        "- [ ] Continue to participate in our Kaggle challenge. \n",
        "- [ ] Use scikit-learn for hyperparameter optimization with RandomizedSearchCV.\n",
        "- [ ] Submit your predictions to our Kaggle competition. (Go to our Kaggle InClass competition webpage. Use the blue **Submit Predictions** button to upload your CSV file. Or you can use the Kaggle API to submit your predictions.)\n",
        "- [ ] Commit your notebook to your fork of the GitHub repo.\n",
        "\n",
        "\n",
        "**You can't just copy** from the lesson notebook to this assignment.\n",
        "\n",
        "- Because the lesson was **regression**, but the assignment is **classification.**\n",
        "- Because the lesson used [TargetEncoder](https://contrib.scikit-learn.org/categorical-encoding/targetencoder.html), which doesn't work as-is for _multi-class_ classification.\n",
        "\n",
        "So you will have to adapt the example, which is good real-world practice.\n",
        "\n",
        "1. Use a model for classification, such as [RandomForestClassifier](https://scikit-learn.org/stable/modules/generated/sklearn.ensemble.RandomForestClassifier.html)\n",
        "2. Use hyperparameters that match the classifier, such as `randomforestclassifier__ ...`\n",
        "3. Use a metric for classification, such as [`scoring='accuracy'`](https://scikit-learn.org/stable/modules/model_evaluation.html#common-cases-predefined-values)\n",
        "4. If you’re doing a multi-class classification problem — such as whether a waterpump is functional, functional needs repair, or nonfunctional — then use a categorical encoding that works for multi-class classification, such as [OrdinalEncoder](https://contrib.scikit-learn.org/categorical-encoding/ordinal.html) (not [TargetEncoder](https://contrib.scikit-learn.org/categorical-encoding/targetencoder.html))\n",
        "\n",
        "\n",
        "\n",
        "## Stretch Goals\n",
        "\n",
        "### Reading\n",
        "- Jake VanderPlas, [Python Data Science Handbook, Chapter 5.3](https://jakevdp.github.io/PythonDataScienceHandbook/05.03-hyperparameters-and-model-validation.html), Hyperparameters and Model Validation\n",
        "- Jake VanderPlas, [Statistics for Hackers](https://speakerdeck.com/jakevdp/statistics-for-hackers?slide=107)\n",
        "- Ron Zacharski, [A Programmer's Guide to Data Mining, Chapter 5](http://guidetodatamining.com/chapter5/), 10-fold cross validation\n",
        "- Sebastian Raschka, [A Basic Pipeline and Grid Search Setup](https://github.com/rasbt/python-machine-learning-book/blob/master/code/bonus/svm_iris_pipeline_and_gridsearch.ipynb)\n",
        "- Peter Worcester, [A Comparison of Grid Search and Randomized Search Using Scikit Learn](https://blog.usejournal.com/a-comparison-of-grid-search-and-randomized-search-using-scikit-learn-29823179bc85)\n",
        "\n",
        "### Doing\n",
        "- Add your own stretch goals!\n",
        "- Try other [categorical encodings](https://contrib.scikit-learn.org/categorical-encoding/). See the previous assignment notebook for details.\n",
        "- In additon to `RandomizedSearchCV`, scikit-learn has [`GridSearchCV`](https://scikit-learn.org/stable/modules/generated/sklearn.model_selection.GridSearchCV.html). Another library called scikit-optimize has [`BayesSearchCV`](https://scikit-optimize.github.io/notebooks/sklearn-gridsearchcv-replacement.html). Experiment with these alternatives.\n",
        "- _[Introduction to Machine Learning with Python](http://shop.oreilly.com/product/0636920030515.do)_ discusses options for \"Grid-Searching Which Model To Use\" in Chapter 6:\n",
        "\n",
        "> You can even go further in combining GridSearchCV and Pipeline: it is also possible to search over the actual steps being performed in the pipeline (say whether to use StandardScaler or MinMaxScaler). This leads to an even bigger search space and should be considered carefully. Trying all possible solutions is usually not a viable machine learning strategy. However, here is an example comparing a RandomForestClassifier and an SVC ...\n",
        "\n",
        "The example is shown in [the accompanying notebook](https://github.com/amueller/introduction_to_ml_with_python/blob/master/06-algorithm-chains-and-pipelines.ipynb), code cells 35-37. Could you apply this concept to your own pipelines?\n"
      ]
    },
    {
      "cell_type": "markdown",
      "metadata": {
        "id": "zzk2cu3nJaeq"
      },
      "source": [
        "### BONUS: Stacking!\n",
        "\n",
        "Here's some code you can use to \"stack\" multiple submissions, which is another form of ensembling:\n",
        "\n",
        "```python\n",
        "import pandas as pd\n",
        "\n",
        "# Filenames of your submissions you want to ensemble\n",
        "files = ['submission-01.csv', 'submission-02.csv', 'submission-03.csv']\n",
        "\n",
        "target = 'status_group'\n",
        "submissions = (pd.read_csv(file)[[target]] for file in files)\n",
        "ensemble = pd.concat(submissions, axis='columns')\n",
        "majority_vote = ensemble.mode(axis='columns')[0]\n",
        "\n",
        "sample_submission = pd.read_csv('sample_submission.csv')\n",
        "submission = sample_submission.copy()\n",
        "submission[target] = majority_vote\n",
        "submission.to_csv('my-ultimate-ensemble-submission.csv', index=False)\n",
        "```"
      ]
    },
    {
      "cell_type": "code",
      "metadata": {
        "id": "BIz_ePG9Jaeq"
      },
      "source": [
        "%%capture\n",
        "import sys\n",
        "\n",
        "# If you're on Colab:\n",
        "if 'google.colab' in sys.modules:\n",
        "    DATA_PATH = 'https://raw.githubusercontent.com/LambdaSchool/DS-Unit-2-Kaggle-Challenge/master/data/'\n",
        "    !pip install category_encoders==2.*\n",
        "\n",
        "# If you're working locally:\n",
        "else:\n",
        "    DATA_PATH = '../data/'"
      ],
      "execution_count": 1,
      "outputs": []
    },
    {
      "cell_type": "code",
      "metadata": {
        "id": "bcflcVSkJaer"
      },
      "source": [
        "import pandas as pd\n",
        "import numpy as np\n",
        "from sklearn.model_selection import train_test_split\n",
        "\n",
        "# Merge train_features.csv & train_labels.csv\n",
        "train = pd.merge(pd.read_csv(DATA_PATH+'waterpumps/train_features.csv'), \n",
        "                 pd.read_csv(DATA_PATH+'waterpumps/train_labels.csv'))\n",
        "\n",
        "# Read test_features.csv & sample_submission.csv\n",
        "test = pd.read_csv(DATA_PATH+'waterpumps/test_features.csv')\n",
        "sample_submission = pd.read_csv(DATA_PATH+'waterpumps/sample_submission.csv')"
      ],
      "execution_count": 4,
      "outputs": []
    },
    {
      "cell_type": "code",
      "metadata": {
        "id": "IPlOav3lJaes",
        "colab": {
          "base_uri": "https://localhost:8080/"
        },
        "outputId": "7b6f1549-03b4-4fd8-aa8d-3f6415b94566"
      },
      "source": [
        "# Split train into train & val\n",
        "train, val = train_test_split(train, train_size=0.80, test_size=0.20, \n",
        "                              stratify=train['status_group'], random_state=42)\n",
        "\n",
        "train.shape, val.shape, test.shape"
      ],
      "execution_count": 5,
      "outputs": [
        {
          "output_type": "execute_result",
          "data": {
            "text/plain": [
              "((47520, 41), (11880, 41), (14358, 40))"
            ]
          },
          "metadata": {
            "tags": []
          },
          "execution_count": 5
        }
      ]
    },
    {
      "cell_type": "code",
      "metadata": {
        "id": "_8v5wfEzPqjJ"
      },
      "source": [
        "def wrangle(df):\n",
        "    \"\"\"Wrangle train, validate, and test sets in the same way\"\"\"\n",
        "    \n",
        "    # Prevent SettingWithCopyWarning\n",
        "    df = df.copy()\n",
        "    \n",
        "    # Set 'id' as the index for the dataframe\n",
        "    df = df.set_index('id')\n",
        "\n",
        "    # Replace near-zero latitude values with zero,\n",
        "    df['latitude'] = df['latitude'].replace(-2e-08, 0)\n",
        "    \n",
        "    # Replace zero values with nulls to prepare for imputation\n",
        "    # Create a \"missing indicator\" column, to account for possibility that \n",
        "    # missing values may be predictive\n",
        "    cols_with_zeros = ['longitude', 'latitude', 'construction_year', \n",
        "                       'gps_height', 'population']\n",
        "    for col in cols_with_zeros:\n",
        "        df[col] = df[col].replace(0, np.nan)\n",
        "        df[col+'_MISSING'] = df[col].isnull()\n",
        "            \n",
        "    # Drop duplicate columns\n",
        "    duplicates = ['quantity_group', 'payment_type']\n",
        "    df = df.drop(columns=duplicates)\n",
        "    \n",
        "    # Drop recorded_by (never varies)\n",
        "    unusable_variance = ['recorded_by']\n",
        "    df = df.drop(columns=unusable_variance)\n",
        "    \n",
        "    # Convert date_recorded to datetime\n",
        "    df['date_recorded'] = pd.to_datetime(df['date_recorded'], infer_datetime_format=True)\n",
        "    \n",
        "    # Extract components from date_recorded, then drop the original column\n",
        "    df['year_recorded'] = df['date_recorded'].dt.year\n",
        "    df['month_recorded'] = df['date_recorded'].dt.month\n",
        "    df['day_recorded'] = df['date_recorded'].dt.day\n",
        "    df = df.drop(columns='date_recorded')\n",
        "    \n",
        "    # Engineer feature: how many years from construction_year to date_recorded\n",
        "    df['years'] = df['year_recorded'] - df['construction_year']\n",
        "    df['years_MISSING'] = df['years'].isnull()\n",
        "    \n",
        "    # return the wrangled dataframe\n",
        "    return df"
      ],
      "execution_count": 6,
      "outputs": []
    },
    {
      "cell_type": "code",
      "metadata": {
        "id": "zt-epAn3PyCE"
      },
      "source": [
        "# Use wrangle function to clean training, validation, and testing sets the same way\n",
        "train = wrangle(train)\n",
        "val = wrangle(val)\n",
        "test = wrangle(test)"
      ],
      "execution_count": 7,
      "outputs": []
    },
    {
      "cell_type": "code",
      "metadata": {
        "id": "VZ9qP7JIP4EP"
      },
      "source": [
        "# Set up 'status_group' as target\n",
        "target = 'status_group'\n",
        "\n",
        "# Set up features as all column except for the target\n",
        "features = train.drop(columns = [target]).columns.tolist()"
      ],
      "execution_count": 14,
      "outputs": []
    },
    {
      "cell_type": "code",
      "metadata": {
        "id": "wLaRm4kqZemf"
      },
      "source": [
        "# Set up training/validation/testing sets into X feature matrix and y target vector\n",
        "X_train =  train[features]\n",
        "y_train = train[target]\n",
        "\n",
        "X_val =  val[features]\n",
        "y_val = val[target]\n",
        "\n",
        "X_test =  test[features]"
      ],
      "execution_count": 16,
      "outputs": []
    },
    {
      "cell_type": "code",
      "metadata": {
        "id": "B2q8gXGsWCNO"
      },
      "source": [
        "from sklearn.model_selection import GridSearchCV, RandomizedSearchCV\n",
        "from sklearn.pipeline import make_pipeline\n",
        "from sklearn.ensemble import RandomForestClassifier\n",
        "from category_encoders import OrdinalEncoder\n",
        "from sklearn.impute import SimpleImputer\n",
        "from scipy.stats import randint, uniform"
      ],
      "execution_count": 15,
      "outputs": []
    },
    {
      "cell_type": "code",
      "metadata": {
        "id": "9drUDSOhbvjg"
      },
      "source": [
        "# Set up pipeline with 2 transformers and 1 estimator:\n",
        "# (1) OrdinalEncoder for all categorical columns, (2) SimpleImputer, and\n",
        "# (3) Perform RandomForest Classifier on the dataset\n",
        "\n",
        "rf_model = make_pipeline(\n",
        "    OrdinalEncoder(),\n",
        "    SimpleImputer(),\n",
        "    RandomForestClassifier()\n",
        ")"
      ],
      "execution_count": 19,
      "outputs": []
    },
    {
      "cell_type": "code",
      "metadata": {
        "colab": {
          "base_uri": "https://localhost:8080/"
        },
        "id": "rIXASuWBT-I6",
        "outputId": "7b90466e-85c6-46c8-991e-a9383391c39c"
      },
      "source": [
        "# Set up parameters distributions as follows: \n",
        "# (1) SimpleImputer strategy (mean or median);\n",
        "# (2) RandomForestClassifier for number of trees, criterion, maximum tree depth, \n",
        "# maximum number of features, whether bootstrapping is used & the maximum number\n",
        "# of samples used when bootstrapping\n",
        "\n",
        "param_distributions = {\n",
        "    'simpleimputer__strategy' : ['mean', 'median'],\n",
        "    'randomforestclassifier__n_estimators' : randint(75, 300),\n",
        "    'randomforestclassifier__criterion' : ['gini', 'entropy'],\n",
        "    'randomforestclassifier__max_depth' : [5, 10, 15, 20, 25],\n",
        "    'randomforestclassifier__max_features' : uniform(0, 1),\n",
        "    'randomforestclassifier__bootstrap' : ['True', 'False'],\n",
        "    'randomforestclassifier__max_samples' : uniform(0, 1)\n",
        "}\n",
        "\n",
        "# Set up a Randomized Search\n",
        "\n",
        "search = RandomizedSearchCV(\n",
        "    rf_model,\n",
        "    param_distributions = param_distributions,\n",
        "    n_iter = 7,\n",
        "    scoring = 'accuracy',\n",
        "    verbose = 10,\n",
        "    cv = 3,\n",
        "    n_jobs = -1,\n",
        "    refit = True,\n",
        "    return_train_score = True\n",
        ")\n",
        "\n",
        "search.fit(X_train, y_train)"
      ],
      "execution_count": 21,
      "outputs": [
        {
          "output_type": "stream",
          "text": [
            "Fitting 3 folds for each of 7 candidates, totalling 21 fits\n"
          ],
          "name": "stdout"
        },
        {
          "output_type": "stream",
          "text": [
            "[Parallel(n_jobs=-1)]: Using backend LokyBackend with 2 concurrent workers.\n",
            "[Parallel(n_jobs=-1)]: Done   1 tasks      | elapsed:  1.0min\n",
            "[Parallel(n_jobs=-1)]: Done   4 tasks      | elapsed:  1.5min\n",
            "[Parallel(n_jobs=-1)]: Done   9 tasks      | elapsed:  2.3min\n",
            "[Parallel(n_jobs=-1)]: Done  14 tasks      | elapsed:  3.0min\n",
            "[Parallel(n_jobs=-1)]: Done  21 out of  21 | elapsed:  4.4min remaining:    0.0s\n",
            "[Parallel(n_jobs=-1)]: Done  21 out of  21 | elapsed:  4.4min finished\n"
          ],
          "name": "stderr"
        },
        {
          "output_type": "execute_result",
          "data": {
            "text/plain": [
              "RandomizedSearchCV(cv=3, error_score=nan,\n",
              "                   estimator=Pipeline(memory=None,\n",
              "                                      steps=[('ordinalencoder',\n",
              "                                              OrdinalEncoder(cols=None,\n",
              "                                                             drop_invariant=False,\n",
              "                                                             handle_missing='value',\n",
              "                                                             handle_unknown='value',\n",
              "                                                             mapping=None,\n",
              "                                                             return_df=True,\n",
              "                                                             verbose=0)),\n",
              "                                             ('simpleimputer',\n",
              "                                              SimpleImputer(add_indicator=False,\n",
              "                                                            copy=True,\n",
              "                                                            fill_value=None,\n",
              "                                                            missing_values=nan,\n",
              "                                                            strategy='mean',\n",
              "                                                            verbose=0)...\n",
              "                                        'randomforestclassifier__max_samples': <scipy.stats._distn_infrastructure.rv_frozen object at 0x7f2795d8b910>,\n",
              "                                        'randomforestclassifier__n_estimators': <scipy.stats._distn_infrastructure.rv_frozen object at 0x7f2795d91610>,\n",
              "                                        'simpleimputer__strategy': ['mean',\n",
              "                                                                    'median']},\n",
              "                   pre_dispatch='2*n_jobs', random_state=None, refit=True,\n",
              "                   return_train_score=True, scoring='accuracy', verbose=10)"
            ]
          },
          "metadata": {
            "tags": []
          },
          "execution_count": 21
        }
      ]
    },
    {
      "cell_type": "code",
      "metadata": {
        "colab": {
          "base_uri": "https://localhost:8080/"
        },
        "id": "EaflBQDwdqgq",
        "outputId": "d40e82a8-9159-435a-a811-b92e2071554b"
      },
      "source": [
        "print('Best hyperparameters', search.best_params_)\n",
        "print('Cross-validation Accuracy', search.best_score_)"
      ],
      "execution_count": 23,
      "outputs": [
        {
          "output_type": "stream",
          "text": [
            "Best hyperparameters {'randomforestclassifier__bootstrap': 'True', 'randomforestclassifier__criterion': 'entropy', 'randomforestclassifier__max_depth': 25, 'randomforestclassifier__max_features': 0.097025749495811, 'randomforestclassifier__max_samples': 0.1743765308324955, 'randomforestclassifier__n_estimators': 195, 'simpleimputer__strategy': 'median'}\n",
            "Cross-validation Accuracy 0.7888047138047138\n"
          ],
          "name": "stdout"
        }
      ]
    },
    {
      "cell_type": "code",
      "metadata": {
        "id": "5JvIqljld9o_"
      },
      "source": [
        "val_pipeline = search.best_estimator_ # Set up pipeline for validation set using the Randomized Search optimized hyperparameters"
      ],
      "execution_count": 24,
      "outputs": []
    },
    {
      "cell_type": "code",
      "metadata": {
        "colab": {
          "base_uri": "https://localhost:8080/"
        },
        "id": "8IOj00V_eJ2R",
        "outputId": "e9618574-7398-49ff-e862-9d923ec930af"
      },
      "source": [
        "from sklearn.metrics import accuracy_score\n",
        "\n",
        "y_pred_val = val_pipeline.predict(X_val) # Predict target vector for the validation set using the Randomized Search optimized hyperparameters\n",
        "\n",
        "val_acc = accuracy_score(y_val, y_pred_val) # Calculate the validation set accuracy score using the Randomized Search optimized hyperparameters\n",
        "\n",
        "print(f'Accuracy Score for Validation Set is: {val_acc}')"
      ],
      "execution_count": 25,
      "outputs": [
        {
          "output_type": "stream",
          "text": [
            "Accuracy Score for Validation Set is: 0.8017676767676768\n"
          ],
          "name": "stdout"
        }
      ]
    },
    {
      "cell_type": "code",
      "metadata": {
        "id": "uKsj0LmafP5U"
      },
      "source": [
        "test_pipeline = search.best_estimator_ # Set up pipeline for test set using the Randomized Search optimized hyperparameters\n"
      ],
      "execution_count": 26,
      "outputs": []
    },
    {
      "cell_type": "code",
      "metadata": {
        "colab": {
          "base_uri": "https://localhost:8080/",
          "height": 235
        },
        "id": "-gv2fyiHfZkJ",
        "outputId": "2ed86690-3f21-4654-c9e0-20c9da5ac739"
      },
      "source": [
        "y_pred_test = test_pipeline.predict(X_test) # Predict target vector for the test set using the Randomized Search optimized hyperparameters\n",
        "\n",
        "submission = pd.DataFrame(data = y_pred_test, index = X_test.index, columns = ['status_group']) # Assign the predicted values to a dataframe\n",
        "submission.head()"
      ],
      "execution_count": 27,
      "outputs": [
        {
          "output_type": "execute_result",
          "data": {
            "text/html": [
              "<div>\n",
              "<style scoped>\n",
              "    .dataframe tbody tr th:only-of-type {\n",
              "        vertical-align: middle;\n",
              "    }\n",
              "\n",
              "    .dataframe tbody tr th {\n",
              "        vertical-align: top;\n",
              "    }\n",
              "\n",
              "    .dataframe thead th {\n",
              "        text-align: right;\n",
              "    }\n",
              "</style>\n",
              "<table border=\"1\" class=\"dataframe\">\n",
              "  <thead>\n",
              "    <tr style=\"text-align: right;\">\n",
              "      <th></th>\n",
              "      <th>status_group</th>\n",
              "    </tr>\n",
              "    <tr>\n",
              "      <th>id</th>\n",
              "      <th></th>\n",
              "    </tr>\n",
              "  </thead>\n",
              "  <tbody>\n",
              "    <tr>\n",
              "      <th>50785</th>\n",
              "      <td>non functional</td>\n",
              "    </tr>\n",
              "    <tr>\n",
              "      <th>51630</th>\n",
              "      <td>functional</td>\n",
              "    </tr>\n",
              "    <tr>\n",
              "      <th>17168</th>\n",
              "      <td>functional</td>\n",
              "    </tr>\n",
              "    <tr>\n",
              "      <th>45559</th>\n",
              "      <td>non functional</td>\n",
              "    </tr>\n",
              "    <tr>\n",
              "      <th>49871</th>\n",
              "      <td>functional</td>\n",
              "    </tr>\n",
              "  </tbody>\n",
              "</table>\n",
              "</div>"
            ],
            "text/plain": [
              "         status_group\n",
              "id                   \n",
              "50785  non functional\n",
              "51630      functional\n",
              "17168      functional\n",
              "45559  non functional\n",
              "49871      functional"
            ]
          },
          "metadata": {
            "tags": []
          },
          "execution_count": 27
        }
      ]
    },
    {
      "cell_type": "code",
      "metadata": {
        "id": "_UXmSFGSf4Mz"
      },
      "source": [
        "# Create Kaggle Submission file\n",
        "submission.to_csv('Ivan_Mihailov_Module3_Kaggle_Submission')"
      ],
      "execution_count": 28,
      "outputs": []
    },
    {
      "cell_type": "markdown",
      "metadata": {
        "id": "P9hnnMwrhAOh"
      },
      "source": [
        "# IIM Stretch Goals"
      ]
    },
    {
      "cell_type": "code",
      "metadata": {
        "colab": {
          "base_uri": "https://localhost:8080/"
        },
        "id": "rniHFJikhFMQ",
        "outputId": "1c078e9e-39f2-4fd1-8e51-1c55a825d6fa"
      },
      "source": [
        "# Set up parameters distributions fro Grid Search as follows: \n",
        "# (1) RandomForestClassifier for maximum number of features\n",
        "\n",
        "param_distributions = {\n",
        "    'randomforestclassifier__max_features' : np.arange(1, len(X_train.columns)+1)    \n",
        " }\n",
        "\n",
        "# Set up a GridSearch\n",
        "\n",
        "search_grid = GridSearchCV(\n",
        "    rf_model,\n",
        "    param_grid = param_distributions,\n",
        "    scoring = 'accuracy',\n",
        "    verbose = 10,\n",
        "    cv = 3,\n",
        "    n_jobs = -1,\n",
        "    refit = True,\n",
        "    return_train_score = True\n",
        ")\n",
        "\n",
        "search_grid.fit(X_train, y_train)"
      ],
      "execution_count": 49,
      "outputs": [
        {
          "output_type": "stream",
          "text": [
            "Fitting 3 folds for each of 45 candidates, totalling 135 fits\n"
          ],
          "name": "stdout"
        },
        {
          "output_type": "stream",
          "text": [
            "[Parallel(n_jobs=-1)]: Using backend LokyBackend with 2 concurrent workers.\n",
            "[Parallel(n_jobs=-1)]: Done   1 tasks      | elapsed:   11.7s\n",
            "[Parallel(n_jobs=-1)]: Done   4 tasks      | elapsed:   24.2s\n",
            "[Parallel(n_jobs=-1)]: Done   9 tasks      | elapsed:   59.6s\n",
            "[Parallel(n_jobs=-1)]: Done  14 tasks      | elapsed:  1.5min\n",
            "[Parallel(n_jobs=-1)]: Done  21 tasks      | elapsed:  2.7min\n",
            "[Parallel(n_jobs=-1)]: Done  28 tasks      | elapsed:  3.9min\n",
            "[Parallel(n_jobs=-1)]: Done  37 tasks      | elapsed:  6.0min\n",
            "[Parallel(n_jobs=-1)]: Done  46 tasks      | elapsed:  8.1min\n",
            "[Parallel(n_jobs=-1)]: Done  57 tasks      | elapsed: 11.4min\n",
            "[Parallel(n_jobs=-1)]: Done  68 tasks      | elapsed: 15.2min\n",
            "[Parallel(n_jobs=-1)]: Done  81 tasks      | elapsed: 20.2min\n",
            "[Parallel(n_jobs=-1)]: Done  94 tasks      | elapsed: 26.3min\n",
            "[Parallel(n_jobs=-1)]: Done 109 tasks      | elapsed: 33.7min\n",
            "[Parallel(n_jobs=-1)]: Done 124 tasks      | elapsed: 43.0min\n",
            "[Parallel(n_jobs=-1)]: Done 135 out of 135 | elapsed: 49.5min finished\n"
          ],
          "name": "stderr"
        },
        {
          "output_type": "execute_result",
          "data": {
            "text/plain": [
              "GridSearchCV(cv=3, error_score=nan,\n",
              "             estimator=Pipeline(memory=None,\n",
              "                                steps=[('ordinalencoder',\n",
              "                                        OrdinalEncoder(cols=None,\n",
              "                                                       drop_invariant=False,\n",
              "                                                       handle_missing='value',\n",
              "                                                       handle_unknown='value',\n",
              "                                                       mapping=None,\n",
              "                                                       return_df=True,\n",
              "                                                       verbose=0)),\n",
              "                                       ('simpleimputer',\n",
              "                                        SimpleImputer(add_indicator=False,\n",
              "                                                      copy=True,\n",
              "                                                      fill_value=None,\n",
              "                                                      missing_values=nan,\n",
              "                                                      strategy='mean',\n",
              "                                                      verbose=0)),\n",
              "                                       ('ra...\n",
              "                                                               random_state=None,\n",
              "                                                               verbose=0,\n",
              "                                                               warm_start=False))],\n",
              "                                verbose=False),\n",
              "             iid='deprecated', n_jobs=-1,\n",
              "             param_grid={'randomforestclassifier__max_features': array([ 1,  2,  3,  4,  5,  6,  7,  8,  9, 10, 11, 12, 13, 14, 15, 16, 17,\n",
              "       18, 19, 20, 21, 22, 23, 24, 25, 26, 27, 28, 29, 30, 31, 32, 33, 34,\n",
              "       35, 36, 37, 38, 39, 40, 41, 42, 43, 44, 45])},\n",
              "             pre_dispatch='2*n_jobs', refit=True, return_train_score=True,\n",
              "             scoring='accuracy', verbose=10)"
            ]
          },
          "metadata": {
            "tags": []
          },
          "execution_count": 49
        }
      ]
    },
    {
      "cell_type": "code",
      "metadata": {
        "colab": {
          "base_uri": "https://localhost:8080/"
        },
        "id": "og30Es0am9P9",
        "outputId": "1bd2d04b-7cd1-4482-9e3c-4293906d4ddd"
      },
      "source": [
        "print('Best GridSearch hyperparameters', search_grid.best_params_)\n",
        "print('Cross-validation GridSearch Accuracy', search_grid.best_score_)"
      ],
      "execution_count": 50,
      "outputs": [
        {
          "output_type": "stream",
          "text": [
            "Best GridSearch hyperparameters {'randomforestclassifier__max_features': 9}\n",
            "Cross-validation GridSearch Accuracy 0.8010101010101011\n"
          ],
          "name": "stdout"
        }
      ]
    },
    {
      "cell_type": "code",
      "metadata": {
        "id": "M7Es4xEsnKsN"
      },
      "source": [
        "val_grid_pipeline = search_grid.best_estimator_ # Set up pipeline for validation set for GridSearch optimized hyperparameters"
      ],
      "execution_count": 51,
      "outputs": []
    },
    {
      "cell_type": "code",
      "metadata": {
        "colab": {
          "base_uri": "https://localhost:8080/"
        },
        "id": "deqy09_WnaBq",
        "outputId": "b451d787-66e4-4b13-9407-49c1f1d99166"
      },
      "source": [
        "y_pred_val_grid = val_grid_pipeline.predict(X_val) # Predict target vector for the validation set using the GridSearch optimized hyperparameters\n",
        "\n",
        "val_grid_acc = accuracy_score(y_val, y_pred_val_grid) # Calculate the validation set accuracy score using the GridSearch optimized hyperparameters\n",
        "\n",
        "print(f'Accuracy Score for GridSearch Validation Set is: {val_grid_acc}')"
      ],
      "execution_count": 52,
      "outputs": [
        {
          "output_type": "stream",
          "text": [
            "Accuracy Score for GridSearch Validation Set is: 0.8113636363636364\n"
          ],
          "name": "stdout"
        }
      ]
    },
    {
      "cell_type": "code",
      "metadata": {
        "id": "UNV3_jItoaf3"
      },
      "source": [
        "test_grid_pipeline = search_grid.best_estimator_ # Set up pipeline for test set using the GridSearch optimized hyperparameters"
      ],
      "execution_count": 53,
      "outputs": []
    },
    {
      "cell_type": "code",
      "metadata": {
        "colab": {
          "base_uri": "https://localhost:8080/",
          "height": 235
        },
        "id": "ZIfjH0PTonX4",
        "outputId": "399d2e80-43fe-4f53-c09e-aee570362f6c"
      },
      "source": [
        "y_pred_test_grid = test_grid_pipeline.predict(X_test) # Predict target vector for the test set using the GridSearch optimized hyperparameters\n",
        "\n",
        "submission_grid = pd.DataFrame(data = y_pred_test_grid, index = X_test.index, columns = ['status_group']) # Assign the predicted values to a dataframe\n",
        "submission_grid.head()"
      ],
      "execution_count": 54,
      "outputs": [
        {
          "output_type": "execute_result",
          "data": {
            "text/html": [
              "<div>\n",
              "<style scoped>\n",
              "    .dataframe tbody tr th:only-of-type {\n",
              "        vertical-align: middle;\n",
              "    }\n",
              "\n",
              "    .dataframe tbody tr th {\n",
              "        vertical-align: top;\n",
              "    }\n",
              "\n",
              "    .dataframe thead th {\n",
              "        text-align: right;\n",
              "    }\n",
              "</style>\n",
              "<table border=\"1\" class=\"dataframe\">\n",
              "  <thead>\n",
              "    <tr style=\"text-align: right;\">\n",
              "      <th></th>\n",
              "      <th>status_group</th>\n",
              "    </tr>\n",
              "    <tr>\n",
              "      <th>id</th>\n",
              "      <th></th>\n",
              "    </tr>\n",
              "  </thead>\n",
              "  <tbody>\n",
              "    <tr>\n",
              "      <th>50785</th>\n",
              "      <td>functional</td>\n",
              "    </tr>\n",
              "    <tr>\n",
              "      <th>51630</th>\n",
              "      <td>functional</td>\n",
              "    </tr>\n",
              "    <tr>\n",
              "      <th>17168</th>\n",
              "      <td>functional</td>\n",
              "    </tr>\n",
              "    <tr>\n",
              "      <th>45559</th>\n",
              "      <td>non functional</td>\n",
              "    </tr>\n",
              "    <tr>\n",
              "      <th>49871</th>\n",
              "      <td>functional</td>\n",
              "    </tr>\n",
              "  </tbody>\n",
              "</table>\n",
              "</div>"
            ],
            "text/plain": [
              "         status_group\n",
              "id                   \n",
              "50785      functional\n",
              "51630      functional\n",
              "17168      functional\n",
              "45559  non functional\n",
              "49871      functional"
            ]
          },
          "metadata": {
            "tags": []
          },
          "execution_count": 54
        }
      ]
    },
    {
      "cell_type": "code",
      "metadata": {
        "id": "jJLklTd6ox01"
      },
      "source": [
        "# Create Kaggle Submission file\n",
        "submission_grid.to_csv('Ivan_Mihailov_Module3_Grid_Kaggle_Submission')"
      ],
      "execution_count": 55,
      "outputs": []
    }
  ]
}